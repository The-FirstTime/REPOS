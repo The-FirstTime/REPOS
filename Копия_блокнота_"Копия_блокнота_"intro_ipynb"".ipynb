{
  "cells": [
    {
      "cell_type": "markdown",
      "source": [
        "# Привет уважаемый соискатель!\n",
        " Тебе предстоит пройти пару простых заданий по глубокому обучению. Это нормально не всегда понимать сразу как\n",
        " сделать ту или иную часть, видь у тебя есть возможность разобраться во всём самому! А этот навык куда ценнее\n",
        " знаний.\n",
        " Отметим сразу, что весь код написанный нами, есть лишь один из возможных путей решения задачи и ты не обязан ему\n",
        " следовать. Возможно, ты решишь использовать другие, более удобные, решения. Но как и в случае использования\n",
        " наших подсказок, так и без них, мы рекомендуем понимать, что ты пишешь и зачем. Мы будем спрашивать на собесе!\n",
        " Но ты не пугайся) Лучше разберись что и как."
      ],
      "metadata": {
        "collapsed": false,
        "pycharm": {
          "name": "#%% md\n"
        },
        "id": "WUHQC3S_EcP4"
      }
    },
    {
      "cell_type": "code",
      "execution_count": 1,
      "metadata": {
        "collapsed": true,
        "pycharm": {
          "name": "#%%\n"
        },
        "id": "kidxBHQBEcP9"
      },
      "outputs": [],
      "source": [
        "import pandas as pd\n",
        "import numpy as np\n",
        "import torch\n",
        "import random\n",
        "import matplotlib.pyplot as plt\n",
        "from torch.utils.data import Dataset\n",
        "import torch.nn as nn\n",
        "from tqdm import tqdm"
      ]
    },
    {
      "cell_type": "markdown",
      "source": [
        "# Задания и оценивание\n",
        "В тестировании присутствует 3 части:\n",
        "- Составление датаеста\n",
        "- Конструкция архитектуры нейросети\n",
        "- Обучение и аналитика\n",
        "\n",
        "Каждая из них представляет собой важный этап работы Ml-щика нашей команды, поэтому постарайся сделать их все.\n",
        "Все они приносят равное количество баллов. В каждой части есть задание со звёздочкой, его делать не обязательно -\n",
        " но если ты всё-таки его сделаешь, то это поможет нам оценить твои компетенции.\n",
        "\n",
        "\n",
        "Скажем пару слов о данных. Признаки представляют из себя из себя 11 непрерывных переменных, таргет - целочисленную оценку от 1 до 10. Подумай, что это за тип задачи."
      ],
      "metadata": {
        "collapsed": false,
        "pycharm": {
          "name": "#%% md\n"
        },
        "id": "DUrOQ8SbEcP-"
      }
    },
    {
      "cell_type": "code",
      "execution_count": 2,
      "outputs": [],
      "source": [
        "def seed_everything(seed):\n",
        "    torch.manual_seed(seed)\n",
        "    torch.cuda.manual_seed(seed)\n",
        "\n",
        "seed_everything(123456)"
      ],
      "metadata": {
        "pycharm": {
          "name": "#%%\n"
        },
        "id": "R_FRESnIEcP_"
      }
    },
    {
      "cell_type": "markdown",
      "source": [
        "# Составление датаеста\n",
        "\n",
        "- Загрузи данные из файла our data. (тут тебе может помочь библиотека pandas)\n",
        "- Раздели их по переменным X и Y.\n",
        "- Сконструируй класс MyDataset. (про такого функионал класса можешь почитать [тут](https:pytorch.org/tutorials/beginner/basics/data_tutorial.html))\n",
        "\n",
        "- \"*\" Импортируй линейную регрессию из библиотеки sklearn и обучи её на тех же данных. Ура! теперь у нас есть безлайн!\n"
      ],
      "metadata": {
        "collapsed": false,
        "pycharm": {
          "name": "#%% md\n"
        },
        "id": "pzArnFKTEcP_"
      }
    },
    {
      "cell_type": "markdown",
      "source": [
        "Загрузите данные и разделите на X, Y"
      ],
      "metadata": {
        "collapsed": false,
        "pycharm": {
          "name": "#%% md\n"
        },
        "id": "LKifpVs7EcQA"
      }
    },
    {
      "cell_type": "code",
      "source": [
        "#data = pd.read_csv('our_data.csv')\n",
        "data2 = pd.read_excel('my_data 2.xlsx')\n",
        "df = pd.DataFrame(data2)\n",
        "headers = df.iloc[0]\n",
        "data = pd.DataFrame(df.values[1:], columns=headers) #Немного преобразуем данные, потому что изначально там бред\n",
        "data"
      ],
      "metadata": {
        "colab": {
          "base_uri": "https://localhost:8080/",
          "height": 431
        },
        "id": "qimCF0WkgFRq",
        "outputId": "0042cb50-d3e6-4d27-c928-914f636f8dc8"
      },
      "execution_count": 3,
      "outputs": [
        {
          "output_type": "execute_result",
          "data": {
            "text/plain": [
              "0    feature_1 feature_2 feature_3 feature_4 feature_5 feature_6 feature_7  \\\n",
              "0          7.4       0.7       0.0       1.9     0.076      11.0      34.0   \n",
              "1          7.8      0.88       0.0       2.6     0.098      25.0      67.0   \n",
              "2          7.8      0.76      0.04       2.3     0.092      15.0      54.0   \n",
              "3         11.2      0.28      0.56       1.9     0.075      17.0      60.0   \n",
              "4          7.4       0.7       0.0       1.9     0.076      11.0      34.0   \n",
              "...        ...       ...       ...       ...       ...       ...       ...   \n",
              "1594       6.2       0.6      0.08       2.0      0.09      32.0      44.0   \n",
              "1595       5.9      0.55       0.1       2.2     0.062      39.0      51.0   \n",
              "1596       6.3      0.51      0.13       2.3     0.076      29.0      40.0   \n",
              "1597       5.9     0.645      0.12       2.0     0.075      32.0      44.0   \n",
              "1598       6.0      0.31      0.47       3.6     0.067      18.0      42.0   \n",
              "\n",
              "0              feature_8 feature_9 feature_10 feature_11 target  \n",
              "0                 0.9978      3.51       0.56        9.4      5  \n",
              "1                 0.9968       3.2       0.68        9.8      5  \n",
              "2                  0.997      3.26       0.65        9.8      5  \n",
              "3                  0.998      3.16       0.58        9.8      6  \n",
              "4                 0.9978      3.51       0.56        9.4      5  \n",
              "...                  ...       ...        ...        ...    ...  \n",
              "1594              0.9949      3.45       0.58       10.5      5  \n",
              "1595  0.9951200000000001      3.52       0.76       11.2      6  \n",
              "1596             0.99574      3.42       0.75       11.0      6  \n",
              "1597  0.9954700000000001      3.57       0.71       10.2      5  \n",
              "1598             0.99549      3.39       0.66       11.0      6  \n",
              "\n",
              "[1599 rows x 12 columns]"
            ],
            "text/html": [
              "\n",
              "  <div id=\"df-7beeb3e5-244f-4a04-98f9-8f2e889cd817\" class=\"colab-df-container\">\n",
              "    <div>\n",
              "<style scoped>\n",
              "    .dataframe tbody tr th:only-of-type {\n",
              "        vertical-align: middle;\n",
              "    }\n",
              "\n",
              "    .dataframe tbody tr th {\n",
              "        vertical-align: top;\n",
              "    }\n",
              "\n",
              "    .dataframe thead th {\n",
              "        text-align: right;\n",
              "    }\n",
              "</style>\n",
              "<table border=\"1\" class=\"dataframe\">\n",
              "  <thead>\n",
              "    <tr style=\"text-align: right;\">\n",
              "      <th></th>\n",
              "      <th>feature_1</th>\n",
              "      <th>feature_2</th>\n",
              "      <th>feature_3</th>\n",
              "      <th>feature_4</th>\n",
              "      <th>feature_5</th>\n",
              "      <th>feature_6</th>\n",
              "      <th>feature_7</th>\n",
              "      <th>feature_8</th>\n",
              "      <th>feature_9</th>\n",
              "      <th>feature_10</th>\n",
              "      <th>feature_11</th>\n",
              "      <th>target</th>\n",
              "    </tr>\n",
              "  </thead>\n",
              "  <tbody>\n",
              "    <tr>\n",
              "      <th>0</th>\n",
              "      <td>7.4</td>\n",
              "      <td>0.7</td>\n",
              "      <td>0.0</td>\n",
              "      <td>1.9</td>\n",
              "      <td>0.076</td>\n",
              "      <td>11.0</td>\n",
              "      <td>34.0</td>\n",
              "      <td>0.9978</td>\n",
              "      <td>3.51</td>\n",
              "      <td>0.56</td>\n",
              "      <td>9.4</td>\n",
              "      <td>5</td>\n",
              "    </tr>\n",
              "    <tr>\n",
              "      <th>1</th>\n",
              "      <td>7.8</td>\n",
              "      <td>0.88</td>\n",
              "      <td>0.0</td>\n",
              "      <td>2.6</td>\n",
              "      <td>0.098</td>\n",
              "      <td>25.0</td>\n",
              "      <td>67.0</td>\n",
              "      <td>0.9968</td>\n",
              "      <td>3.2</td>\n",
              "      <td>0.68</td>\n",
              "      <td>9.8</td>\n",
              "      <td>5</td>\n",
              "    </tr>\n",
              "    <tr>\n",
              "      <th>2</th>\n",
              "      <td>7.8</td>\n",
              "      <td>0.76</td>\n",
              "      <td>0.04</td>\n",
              "      <td>2.3</td>\n",
              "      <td>0.092</td>\n",
              "      <td>15.0</td>\n",
              "      <td>54.0</td>\n",
              "      <td>0.997</td>\n",
              "      <td>3.26</td>\n",
              "      <td>0.65</td>\n",
              "      <td>9.8</td>\n",
              "      <td>5</td>\n",
              "    </tr>\n",
              "    <tr>\n",
              "      <th>3</th>\n",
              "      <td>11.2</td>\n",
              "      <td>0.28</td>\n",
              "      <td>0.56</td>\n",
              "      <td>1.9</td>\n",
              "      <td>0.075</td>\n",
              "      <td>17.0</td>\n",
              "      <td>60.0</td>\n",
              "      <td>0.998</td>\n",
              "      <td>3.16</td>\n",
              "      <td>0.58</td>\n",
              "      <td>9.8</td>\n",
              "      <td>6</td>\n",
              "    </tr>\n",
              "    <tr>\n",
              "      <th>4</th>\n",
              "      <td>7.4</td>\n",
              "      <td>0.7</td>\n",
              "      <td>0.0</td>\n",
              "      <td>1.9</td>\n",
              "      <td>0.076</td>\n",
              "      <td>11.0</td>\n",
              "      <td>34.0</td>\n",
              "      <td>0.9978</td>\n",
              "      <td>3.51</td>\n",
              "      <td>0.56</td>\n",
              "      <td>9.4</td>\n",
              "      <td>5</td>\n",
              "    </tr>\n",
              "    <tr>\n",
              "      <th>...</th>\n",
              "      <td>...</td>\n",
              "      <td>...</td>\n",
              "      <td>...</td>\n",
              "      <td>...</td>\n",
              "      <td>...</td>\n",
              "      <td>...</td>\n",
              "      <td>...</td>\n",
              "      <td>...</td>\n",
              "      <td>...</td>\n",
              "      <td>...</td>\n",
              "      <td>...</td>\n",
              "      <td>...</td>\n",
              "    </tr>\n",
              "    <tr>\n",
              "      <th>1594</th>\n",
              "      <td>6.2</td>\n",
              "      <td>0.6</td>\n",
              "      <td>0.08</td>\n",
              "      <td>2.0</td>\n",
              "      <td>0.09</td>\n",
              "      <td>32.0</td>\n",
              "      <td>44.0</td>\n",
              "      <td>0.9949</td>\n",
              "      <td>3.45</td>\n",
              "      <td>0.58</td>\n",
              "      <td>10.5</td>\n",
              "      <td>5</td>\n",
              "    </tr>\n",
              "    <tr>\n",
              "      <th>1595</th>\n",
              "      <td>5.9</td>\n",
              "      <td>0.55</td>\n",
              "      <td>0.1</td>\n",
              "      <td>2.2</td>\n",
              "      <td>0.062</td>\n",
              "      <td>39.0</td>\n",
              "      <td>51.0</td>\n",
              "      <td>0.9951200000000001</td>\n",
              "      <td>3.52</td>\n",
              "      <td>0.76</td>\n",
              "      <td>11.2</td>\n",
              "      <td>6</td>\n",
              "    </tr>\n",
              "    <tr>\n",
              "      <th>1596</th>\n",
              "      <td>6.3</td>\n",
              "      <td>0.51</td>\n",
              "      <td>0.13</td>\n",
              "      <td>2.3</td>\n",
              "      <td>0.076</td>\n",
              "      <td>29.0</td>\n",
              "      <td>40.0</td>\n",
              "      <td>0.99574</td>\n",
              "      <td>3.42</td>\n",
              "      <td>0.75</td>\n",
              "      <td>11.0</td>\n",
              "      <td>6</td>\n",
              "    </tr>\n",
              "    <tr>\n",
              "      <th>1597</th>\n",
              "      <td>5.9</td>\n",
              "      <td>0.645</td>\n",
              "      <td>0.12</td>\n",
              "      <td>2.0</td>\n",
              "      <td>0.075</td>\n",
              "      <td>32.0</td>\n",
              "      <td>44.0</td>\n",
              "      <td>0.9954700000000001</td>\n",
              "      <td>3.57</td>\n",
              "      <td>0.71</td>\n",
              "      <td>10.2</td>\n",
              "      <td>5</td>\n",
              "    </tr>\n",
              "    <tr>\n",
              "      <th>1598</th>\n",
              "      <td>6.0</td>\n",
              "      <td>0.31</td>\n",
              "      <td>0.47</td>\n",
              "      <td>3.6</td>\n",
              "      <td>0.067</td>\n",
              "      <td>18.0</td>\n",
              "      <td>42.0</td>\n",
              "      <td>0.99549</td>\n",
              "      <td>3.39</td>\n",
              "      <td>0.66</td>\n",
              "      <td>11.0</td>\n",
              "      <td>6</td>\n",
              "    </tr>\n",
              "  </tbody>\n",
              "</table>\n",
              "<p>1599 rows × 12 columns</p>\n",
              "</div>\n",
              "    <div class=\"colab-df-buttons\">\n",
              "\n",
              "  <div class=\"colab-df-container\">\n",
              "    <button class=\"colab-df-convert\" onclick=\"convertToInteractive('df-7beeb3e5-244f-4a04-98f9-8f2e889cd817')\"\n",
              "            title=\"Convert this dataframe to an interactive table.\"\n",
              "            style=\"display:none;\">\n",
              "\n",
              "  <svg xmlns=\"http://www.w3.org/2000/svg\" height=\"24px\" viewBox=\"0 -960 960 960\">\n",
              "    <path d=\"M120-120v-720h720v720H120Zm60-500h600v-160H180v160Zm220 220h160v-160H400v160Zm0 220h160v-160H400v160ZM180-400h160v-160H180v160Zm440 0h160v-160H620v160ZM180-180h160v-160H180v160Zm440 0h160v-160H620v160Z\"/>\n",
              "  </svg>\n",
              "    </button>\n",
              "\n",
              "  <style>\n",
              "    .colab-df-container {\n",
              "      display:flex;\n",
              "      gap: 12px;\n",
              "    }\n",
              "\n",
              "    .colab-df-convert {\n",
              "      background-color: #E8F0FE;\n",
              "      border: none;\n",
              "      border-radius: 50%;\n",
              "      cursor: pointer;\n",
              "      display: none;\n",
              "      fill: #1967D2;\n",
              "      height: 32px;\n",
              "      padding: 0 0 0 0;\n",
              "      width: 32px;\n",
              "    }\n",
              "\n",
              "    .colab-df-convert:hover {\n",
              "      background-color: #E2EBFA;\n",
              "      box-shadow: 0px 1px 2px rgba(60, 64, 67, 0.3), 0px 1px 3px 1px rgba(60, 64, 67, 0.15);\n",
              "      fill: #174EA6;\n",
              "    }\n",
              "\n",
              "    .colab-df-buttons div {\n",
              "      margin-bottom: 4px;\n",
              "    }\n",
              "\n",
              "    [theme=dark] .colab-df-convert {\n",
              "      background-color: #3B4455;\n",
              "      fill: #D2E3FC;\n",
              "    }\n",
              "\n",
              "    [theme=dark] .colab-df-convert:hover {\n",
              "      background-color: #434B5C;\n",
              "      box-shadow: 0px 1px 3px 1px rgba(0, 0, 0, 0.15);\n",
              "      filter: drop-shadow(0px 1px 2px rgba(0, 0, 0, 0.3));\n",
              "      fill: #FFFFFF;\n",
              "    }\n",
              "  </style>\n",
              "\n",
              "    <script>\n",
              "      const buttonEl =\n",
              "        document.querySelector('#df-7beeb3e5-244f-4a04-98f9-8f2e889cd817 button.colab-df-convert');\n",
              "      buttonEl.style.display =\n",
              "        google.colab.kernel.accessAllowed ? 'block' : 'none';\n",
              "\n",
              "      async function convertToInteractive(key) {\n",
              "        const element = document.querySelector('#df-7beeb3e5-244f-4a04-98f9-8f2e889cd817');\n",
              "        const dataTable =\n",
              "          await google.colab.kernel.invokeFunction('convertToInteractive',\n",
              "                                                    [key], {});\n",
              "        if (!dataTable) return;\n",
              "\n",
              "        const docLinkHtml = 'Like what you see? Visit the ' +\n",
              "          '<a target=\"_blank\" href=https://colab.research.google.com/notebooks/data_table.ipynb>data table notebook</a>'\n",
              "          + ' to learn more about interactive tables.';\n",
              "        element.innerHTML = '';\n",
              "        dataTable['output_type'] = 'display_data';\n",
              "        await google.colab.output.renderOutput(dataTable, element);\n",
              "        const docLink = document.createElement('div');\n",
              "        docLink.innerHTML = docLinkHtml;\n",
              "        element.appendChild(docLink);\n",
              "      }\n",
              "    </script>\n",
              "  </div>\n",
              "\n",
              "\n",
              "<div id=\"df-cfe74e46-b25d-4539-af16-9e7df5c1c5b7\">\n",
              "  <button class=\"colab-df-quickchart\" onclick=\"quickchart('df-cfe74e46-b25d-4539-af16-9e7df5c1c5b7')\"\n",
              "            title=\"Suggest charts.\"\n",
              "            style=\"display:none;\">\n",
              "\n",
              "<svg xmlns=\"http://www.w3.org/2000/svg\" height=\"24px\"viewBox=\"0 0 24 24\"\n",
              "     width=\"24px\">\n",
              "    <g>\n",
              "        <path d=\"M19 3H5c-1.1 0-2 .9-2 2v14c0 1.1.9 2 2 2h14c1.1 0 2-.9 2-2V5c0-1.1-.9-2-2-2zM9 17H7v-7h2v7zm4 0h-2V7h2v10zm4 0h-2v-4h2v4z\"/>\n",
              "    </g>\n",
              "</svg>\n",
              "  </button>\n",
              "\n",
              "<style>\n",
              "  .colab-df-quickchart {\n",
              "      --bg-color: #E8F0FE;\n",
              "      --fill-color: #1967D2;\n",
              "      --hover-bg-color: #E2EBFA;\n",
              "      --hover-fill-color: #174EA6;\n",
              "      --disabled-fill-color: #AAA;\n",
              "      --disabled-bg-color: #DDD;\n",
              "  }\n",
              "\n",
              "  [theme=dark] .colab-df-quickchart {\n",
              "      --bg-color: #3B4455;\n",
              "      --fill-color: #D2E3FC;\n",
              "      --hover-bg-color: #434B5C;\n",
              "      --hover-fill-color: #FFFFFF;\n",
              "      --disabled-bg-color: #3B4455;\n",
              "      --disabled-fill-color: #666;\n",
              "  }\n",
              "\n",
              "  .colab-df-quickchart {\n",
              "    background-color: var(--bg-color);\n",
              "    border: none;\n",
              "    border-radius: 50%;\n",
              "    cursor: pointer;\n",
              "    display: none;\n",
              "    fill: var(--fill-color);\n",
              "    height: 32px;\n",
              "    padding: 0;\n",
              "    width: 32px;\n",
              "  }\n",
              "\n",
              "  .colab-df-quickchart:hover {\n",
              "    background-color: var(--hover-bg-color);\n",
              "    box-shadow: 0 1px 2px rgba(60, 64, 67, 0.3), 0 1px 3px 1px rgba(60, 64, 67, 0.15);\n",
              "    fill: var(--button-hover-fill-color);\n",
              "  }\n",
              "\n",
              "  .colab-df-quickchart-complete:disabled,\n",
              "  .colab-df-quickchart-complete:disabled:hover {\n",
              "    background-color: var(--disabled-bg-color);\n",
              "    fill: var(--disabled-fill-color);\n",
              "    box-shadow: none;\n",
              "  }\n",
              "\n",
              "  .colab-df-spinner {\n",
              "    border: 2px solid var(--fill-color);\n",
              "    border-color: transparent;\n",
              "    border-bottom-color: var(--fill-color);\n",
              "    animation:\n",
              "      spin 1s steps(1) infinite;\n",
              "  }\n",
              "\n",
              "  @keyframes spin {\n",
              "    0% {\n",
              "      border-color: transparent;\n",
              "      border-bottom-color: var(--fill-color);\n",
              "      border-left-color: var(--fill-color);\n",
              "    }\n",
              "    20% {\n",
              "      border-color: transparent;\n",
              "      border-left-color: var(--fill-color);\n",
              "      border-top-color: var(--fill-color);\n",
              "    }\n",
              "    30% {\n",
              "      border-color: transparent;\n",
              "      border-left-color: var(--fill-color);\n",
              "      border-top-color: var(--fill-color);\n",
              "      border-right-color: var(--fill-color);\n",
              "    }\n",
              "    40% {\n",
              "      border-color: transparent;\n",
              "      border-right-color: var(--fill-color);\n",
              "      border-top-color: var(--fill-color);\n",
              "    }\n",
              "    60% {\n",
              "      border-color: transparent;\n",
              "      border-right-color: var(--fill-color);\n",
              "    }\n",
              "    80% {\n",
              "      border-color: transparent;\n",
              "      border-right-color: var(--fill-color);\n",
              "      border-bottom-color: var(--fill-color);\n",
              "    }\n",
              "    90% {\n",
              "      border-color: transparent;\n",
              "      border-bottom-color: var(--fill-color);\n",
              "    }\n",
              "  }\n",
              "</style>\n",
              "\n",
              "  <script>\n",
              "    async function quickchart(key) {\n",
              "      const quickchartButtonEl =\n",
              "        document.querySelector('#' + key + ' button');\n",
              "      quickchartButtonEl.disabled = true;  // To prevent multiple clicks.\n",
              "      quickchartButtonEl.classList.add('colab-df-spinner');\n",
              "      try {\n",
              "        const charts = await google.colab.kernel.invokeFunction(\n",
              "            'suggestCharts', [key], {});\n",
              "      } catch (error) {\n",
              "        console.error('Error during call to suggestCharts:', error);\n",
              "      }\n",
              "      quickchartButtonEl.classList.remove('colab-df-spinner');\n",
              "      quickchartButtonEl.classList.add('colab-df-quickchart-complete');\n",
              "    }\n",
              "    (() => {\n",
              "      let quickchartButtonEl =\n",
              "        document.querySelector('#df-cfe74e46-b25d-4539-af16-9e7df5c1c5b7 button');\n",
              "      quickchartButtonEl.style.display =\n",
              "        google.colab.kernel.accessAllowed ? 'block' : 'none';\n",
              "    })();\n",
              "  </script>\n",
              "</div>\n",
              "    </div>\n",
              "  </div>\n"
            ]
          },
          "metadata": {},
          "execution_count": 3
        }
      ]
    },
    {
      "cell_type": "code",
      "source": [
        "X = data.drop('target', axis=1)\n",
        "Y = np.array(data[['target']])\n",
        "Y"
      ],
      "metadata": {
        "colab": {
          "base_uri": "https://localhost:8080/"
        },
        "id": "VE-WITUtYi6t",
        "outputId": "0cfcec8f-7b44-45a2-8412-03ee1a9bdf72"
      },
      "execution_count": 4,
      "outputs": [
        {
          "output_type": "execute_result",
          "data": {
            "text/plain": [
              "array([[5],\n",
              "       [5],\n",
              "       [5],\n",
              "       ...,\n",
              "       [6],\n",
              "       [5],\n",
              "       [6]], dtype=object)"
            ]
          },
          "metadata": {},
          "execution_count": 4
        }
      ]
    },
    {
      "cell_type": "markdown",
      "source": [
        "Создайте класс DataSet - https://pytorch.org/tutorials/beginner/basics/data_tutorial.html"
      ],
      "metadata": {
        "collapsed": false,
        "pycharm": {
          "name": "#%% md\n"
        },
        "id": "lufIFRREEcQA"
      }
    },
    {
      "cell_type": "code",
      "source": [
        "class MyDataset(Dataset):\n",
        "    def __init__(self, x, y):\n",
        "        self.x = x\n",
        "        self.y = y\n",
        "\n",
        "    def __getitem__(self, idx):\n",
        "        cur_sample = np.array(self.x.loc[idx])\n",
        "        cur_target = self.y[idx]\n",
        "        return cur_sample, cur_target\n",
        "\n",
        "\n",
        "    def __len__(self):\n",
        "        return self.x.shape[0]"
      ],
      "metadata": {
        "id": "ljlBAxPQkeKu"
      },
      "execution_count": 5,
      "outputs": []
    },
    {
      "cell_type": "code",
      "source": [
        "import sklearn\n",
        "from sklearn.linear_model import LinearRegression\n",
        "model = LinearRegression()\n",
        "model.fit(X, Y)\n"
      ],
      "metadata": {
        "colab": {
          "base_uri": "https://localhost:8080/",
          "height": 72
        },
        "id": "7yBi7AHIlAgz",
        "outputId": "00e72a8c-08a6-43bb-9cc2-bbdcc68ea0cb"
      },
      "execution_count": 6,
      "outputs": [
        {
          "output_type": "execute_result",
          "data": {
            "text/plain": [
              "LinearRegression()"
            ],
            "text/html": [
              "<style>#sk-container-id-1 {color: black;background-color: white;}#sk-container-id-1 pre{padding: 0;}#sk-container-id-1 div.sk-toggleable {background-color: white;}#sk-container-id-1 label.sk-toggleable__label {cursor: pointer;display: block;width: 100%;margin-bottom: 0;padding: 0.3em;box-sizing: border-box;text-align: center;}#sk-container-id-1 label.sk-toggleable__label-arrow:before {content: \"▸\";float: left;margin-right: 0.25em;color: #696969;}#sk-container-id-1 label.sk-toggleable__label-arrow:hover:before {color: black;}#sk-container-id-1 div.sk-estimator:hover label.sk-toggleable__label-arrow:before {color: black;}#sk-container-id-1 div.sk-toggleable__content {max-height: 0;max-width: 0;overflow: hidden;text-align: left;background-color: #f0f8ff;}#sk-container-id-1 div.sk-toggleable__content pre {margin: 0.2em;color: black;border-radius: 0.25em;background-color: #f0f8ff;}#sk-container-id-1 input.sk-toggleable__control:checked~div.sk-toggleable__content {max-height: 200px;max-width: 100%;overflow: auto;}#sk-container-id-1 input.sk-toggleable__control:checked~label.sk-toggleable__label-arrow:before {content: \"▾\";}#sk-container-id-1 div.sk-estimator input.sk-toggleable__control:checked~label.sk-toggleable__label {background-color: #d4ebff;}#sk-container-id-1 div.sk-label input.sk-toggleable__control:checked~label.sk-toggleable__label {background-color: #d4ebff;}#sk-container-id-1 input.sk-hidden--visually {border: 0;clip: rect(1px 1px 1px 1px);clip: rect(1px, 1px, 1px, 1px);height: 1px;margin: -1px;overflow: hidden;padding: 0;position: absolute;width: 1px;}#sk-container-id-1 div.sk-estimator {font-family: monospace;background-color: #f0f8ff;border: 1px dotted black;border-radius: 0.25em;box-sizing: border-box;margin-bottom: 0.5em;}#sk-container-id-1 div.sk-estimator:hover {background-color: #d4ebff;}#sk-container-id-1 div.sk-parallel-item::after {content: \"\";width: 100%;border-bottom: 1px solid gray;flex-grow: 1;}#sk-container-id-1 div.sk-label:hover label.sk-toggleable__label {background-color: #d4ebff;}#sk-container-id-1 div.sk-serial::before {content: \"\";position: absolute;border-left: 1px solid gray;box-sizing: border-box;top: 0;bottom: 0;left: 50%;z-index: 0;}#sk-container-id-1 div.sk-serial {display: flex;flex-direction: column;align-items: center;background-color: white;padding-right: 0.2em;padding-left: 0.2em;position: relative;}#sk-container-id-1 div.sk-item {position: relative;z-index: 1;}#sk-container-id-1 div.sk-parallel {display: flex;align-items: stretch;justify-content: center;background-color: white;position: relative;}#sk-container-id-1 div.sk-item::before, #sk-container-id-1 div.sk-parallel-item::before {content: \"\";position: absolute;border-left: 1px solid gray;box-sizing: border-box;top: 0;bottom: 0;left: 50%;z-index: -1;}#sk-container-id-1 div.sk-parallel-item {display: flex;flex-direction: column;z-index: 1;position: relative;background-color: white;}#sk-container-id-1 div.sk-parallel-item:first-child::after {align-self: flex-end;width: 50%;}#sk-container-id-1 div.sk-parallel-item:last-child::after {align-self: flex-start;width: 50%;}#sk-container-id-1 div.sk-parallel-item:only-child::after {width: 0;}#sk-container-id-1 div.sk-dashed-wrapped {border: 1px dashed gray;margin: 0 0.4em 0.5em 0.4em;box-sizing: border-box;padding-bottom: 0.4em;background-color: white;}#sk-container-id-1 div.sk-label label {font-family: monospace;font-weight: bold;display: inline-block;line-height: 1.2em;}#sk-container-id-1 div.sk-label-container {text-align: center;}#sk-container-id-1 div.sk-container {/* jupyter's `normalize.less` sets `[hidden] { display: none; }` but bootstrap.min.css set `[hidden] { display: none !important; }` so we also need the `!important` here to be able to override the default hidden behavior on the sphinx rendered scikit-learn.org. See: https://github.com/scikit-learn/scikit-learn/issues/21755 */display: inline-block !important;position: relative;}#sk-container-id-1 div.sk-text-repr-fallback {display: none;}</style><div id=\"sk-container-id-1\" class=\"sk-top-container\"><div class=\"sk-text-repr-fallback\"><pre>LinearRegression()</pre><b>In a Jupyter environment, please rerun this cell to show the HTML representation or trust the notebook. <br />On GitHub, the HTML representation is unable to render, please try loading this page with nbviewer.org.</b></div><div class=\"sk-container\" hidden><div class=\"sk-item\"><div class=\"sk-estimator sk-toggleable\"><input class=\"sk-toggleable__control sk-hidden--visually\" id=\"sk-estimator-id-1\" type=\"checkbox\" checked><label for=\"sk-estimator-id-1\" class=\"sk-toggleable__label sk-toggleable__label-arrow\">LinearRegression</label><div class=\"sk-toggleable__content\"><pre>LinearRegression()</pre></div></div></div></div></div>"
            ]
          },
          "metadata": {},
          "execution_count": 6
        }
      ]
    },
    {
      "cell_type": "markdown",
      "source": [
        "# Сконструируйте класс нейронной сети\n",
        "В этом задании тебе предстоит сконструировать полносвязную двухслойную нейронную сеть.\n",
        "\n",
        "- Вспомните какие сущности необходимы для обучения нейронной сети и включите их в атрибуты класса.\n",
        "- Основываясь на типе данной задачи выберете подходящую лосс функцию.\n",
        "- На основе требований первых двух пунктов заполните методы forward и training_step\n",
        "- \"*\" Настрой обучение батчами (это не обязательно делать в противном случае)\n",
        "\n",
        "Напоминаем, что не обязательно пользоваться предлагаемым шаблоном! Если вы знаете более быстрые и простые пути,\n",
        "то будет интересно на них посмотреть."
      ],
      "metadata": {
        "collapsed": false,
        "pycharm": {
          "name": "#%% md\n"
        },
        "id": "Z5_GWRNdEcQA"
      }
    },
    {
      "cell_type": "code",
      "source": [
        "class MyNeuralNetwork:\n",
        "    def __init__(self, INPUT_DIM, NUM_CLASSES, H_DIM, learning_rate):\n",
        "        self.learning_rate = learning_rate\n",
        "        self.w1 = np.random.rand(INPUT_DIM, H_DIM)\n",
        "        self.b1 = np.random.rand(1, H_DIM)\n",
        "        self.w2 = np.random.rand(H_DIM, NUM_CLASSES)\n",
        "        self.b2 = np.random.rand(1, NUM_CLASSES)\n",
        "        w1 = (self.w1 - 0.5) * 2 * np.sqrt(1/INPUT_DIM)\n",
        "        b1 = (self.b1 - 0.5) * 2 * np.sqrt(1/INPUT_DIM)\n",
        "        w2 = (self.w2 - 0.5) * 2 * np.sqrt(1/H_DIM)\n",
        "        b2 = (self.b2 - 0.5) * 2 * np.sqrt(1/H_DIM)\n",
        "\n",
        "\n",
        "    def relu_(self, x):\n",
        "        return np.maximum(x, 0)\n",
        "\n",
        "    def relu_deriv(self, k):\n",
        "        return (k >= 0).astype(float)\n",
        "\n",
        "    def pred_vect(self, y, num_classes):\n",
        "        self.predict = np.zeros((len(y), num_classes))\n",
        "        for j, y_j in enumerate(y):\n",
        "            self.predict[j, y_j] = 1\n",
        "        return self.predict\n",
        "\n",
        "\n",
        "    def softmax(self, t):\n",
        "        out = np.exp(t)\n",
        "        return out / np.sum(out, axis=1, keepdims=True)\n",
        "\n",
        "    def cross_entrop (self, z, y):\n",
        "        return -np.log(np.array([z[j, y[j]] for j in range(len(y))]))\n",
        "\n",
        "\n",
        "    def trainnig_step(self, x, y):\n",
        "        t1 = self.b1 + x @ self.w1\n",
        "        h1 = self.relu_(t1)\n",
        "        t2 = self.b2 + t1 @ self.w2\n",
        "        z = self.softmax(t2)\n",
        "        E = np.sum(self.cross_entrop(z, y))\n",
        "\n",
        "        predict = self.pred_vect(y, NUM_CLASSES)\n",
        "        dE_dt2 = z - predict\n",
        "        dE_dw2 = h1.T @ dE_dt2\n",
        "        dE_db2 = np.sum(dE_dt2, axis=0, keepdims=True)\n",
        "        dE_dh1 = dE_dt2 @ self.w2.T\n",
        "        dE_dt1 = dE_dh1 * self.relu_deriv(t1)\n",
        "        dE_dw1 = x.T @ dE_dt1\n",
        "        dE_db1 = np.sum(dE_dt1, axis=0, keepdims=True)\n",
        "\n",
        "        self.learning_rate = 0.0002\n",
        "        self.w2 = self.w2 - self.learning_rate * dE_dw2\n",
        "        self.w1 = self.w1 - self.learning_rate * dE_dw1\n",
        "        self.b2 = self.b2 - self.learning_rate * dE_db2\n",
        "        self.b1 = self.b1 - self.learning_rate * dE_db1\n",
        "        loss_ar.append(E)\n",
        "        return self.w1, self.w2, self.b1, self.b2\n",
        "\n",
        "\n"
      ],
      "metadata": {
        "id": "hpvW-xLLuT0A"
      },
      "execution_count": 106,
      "outputs": []
    },
    {
      "cell_type": "markdown",
      "source": [
        "# Обучение и аналитика\n",
        "В этом задании тебе предстоит обучить сконструированную архитектуру.\n",
        "\n",
        "- Создай объект класса MyDataset и MyNet, а также других атрибутов, если ваше решение их предусматривает.\n",
        "- Напишите цикл обучения нейронной сети.\n",
        "- Обучите нейронную сеть и оцените финальной качество на валидационном датасете.\n",
        "- \"*\" Каждый N-ый шаг изображайте на графике, как менялось значение лосс функции на тестовых данных и\n",
        "на части валидационных данных."
      ],
      "metadata": {
        "collapsed": false,
        "pycharm": {
          "name": "#%% md\n"
        },
        "id": "LJOIscOCEcQB"
      }
    },
    {
      "cell_type": "markdown",
      "source": [
        "Пробы пера\n"
      ],
      "metadata": {
        "id": "K4eZLerPwRbg"
      }
    },
    {
      "cell_type": "markdown",
      "source": [
        "У меня возник ряд сложностей с преобразованием типов в предложенном Вами датафрейме, в виду чего не получилось обучить на нем НС, поэтому я просто сгенерировал случайный датасет с такими же характеристиками (1600 сэмплов, 11 фичей и 6 классов)"
      ],
      "metadata": {
        "id": "aGz2oeAKZ9TM"
      }
    },
    {
      "cell_type": "code",
      "source": [
        "import numpy as np\n",
        "from sklearn.datasets import make_classification\n",
        "\n",
        "\n",
        "X, Y = make_classification(\n",
        "    n_samples=1600,\n",
        "    n_features=11,\n",
        "    n_informative=11,\n",
        "    n_redundant=0,\n",
        "    n_classes=6,\n",
        "    random_state=10\n",
        ")\n",
        "\n",
        "dataset = [(X[i][None, ...], Y[i]) for i in range(len(Y))]\n",
        "dataset[7]"
      ],
      "metadata": {
        "colab": {
          "base_uri": "https://localhost:8080/"
        },
        "id": "xCQzJfWDwVRq",
        "outputId": "63e54167-7164-4e78-bf63-b0750df720c7"
      },
      "execution_count": 86,
      "outputs": [
        {
          "output_type": "execute_result",
          "data": {
            "text/plain": [
              "(array([[ 1.37473333,  0.44415469,  2.30790745, -2.68498505, -0.31458448,\n",
              "         -0.37057292, -2.29035361,  2.9378665 , -1.11059287,  2.19856686,\n",
              "          0.76386669]]),\n",
              " 3)"
            ]
          },
          "metadata": {},
          "execution_count": 86
        }
      ]
    },
    {
      "cell_type": "code",
      "source": [
        "ALPHA = 0.001\n",
        "NUM_EPOCHS = 20\n",
        "BATCH_SIZE = 20\n",
        "INPUT_DIM = 11\n",
        "NUM_CLASSES = 6\n",
        "H_DIM = 20\n",
        "\n",
        "dt = MyDataset(X,Y)\n",
        "mynet = MyNeuralNetwork(INPUT_DIM, NUM_CLASSES, H_DIM, ALPHA)\n",
        "\n"
      ],
      "metadata": {
        "id": "29-t0qi7rSTU"
      },
      "execution_count": 107,
      "outputs": []
    },
    {
      "cell_type": "code",
      "source": [
        "loss_ar = []\n",
        "for ep in range(NUM_EPOCHS):\n",
        "    random.shuffle(dataset)\n",
        "    for i in range(len(dataset) // BATCH_SIZE):\n",
        "        batch_x, batch_y = zip(*dataset[i*BATCH_SIZE : i*BATCH_SIZE+BATCH_SIZE])\n",
        "        x = np.concatenate(batch_x, axis=0)\n",
        "        y = np.array(batch_y)\n",
        "        mynet.trainnig_step(x, y)\n",
        "\n",
        "\n"
      ],
      "metadata": {
        "id": "tjG7SIT80BBl"
      },
      "execution_count": 108,
      "outputs": []
    },
    {
      "cell_type": "code",
      "source": [
        "def predict(x):\n",
        "    t1 = x @ mynet.w1 + mynet.b1\n",
        "    h1 = mynet.relu_(t1)\n",
        "    t2 = h1 @ mynet.w2 + mynet.b2\n",
        "    z = mynet.softmax(t2)\n",
        "    return z\n",
        "\n",
        "def calc_accuracy(dataset):\n",
        "    correct = 0\n",
        "    for i in range(len(dataset)):\n",
        "        x, y = dataset[i]\n",
        "        z = predict(x)\n",
        "        y_pred = np.argmax(z)\n",
        "        if y_pred == y:\n",
        "            correct += 1\n",
        "    acc = correct / len(dataset)\n",
        "    return acc\n",
        "\n",
        "accuracy = calc_accuracy(dataset)\n",
        "print(\"Accuracy:\", accuracy)"
      ],
      "metadata": {
        "colab": {
          "base_uri": "https://localhost:8080/"
        },
        "id": "UdcH0naY6_FQ",
        "outputId": "f8f96cd1-abfd-499c-ced5-61d19cb917a9"
      },
      "execution_count": 109,
      "outputs": [
        {
          "output_type": "stream",
          "name": "stdout",
          "text": [
            "Accuracy: 0.48\n"
          ]
        }
      ]
    },
    {
      "cell_type": "code",
      "source": [
        "plt.plot(loss_ar)\n",
        "plt.show()"
      ],
      "metadata": {
        "colab": {
          "base_uri": "https://localhost:8080/",
          "height": 429
        },
        "id": "yjdXbrKb-JXg",
        "outputId": "11425423-35f5-4649-b31c-8be41ef21871"
      },
      "execution_count": 110,
      "outputs": [
        {
          "output_type": "display_data",
          "data": {
            "text/plain": [
              "<Figure size 640x480 with 1 Axes>"
            ],
            "image/png": "[encoded data removed]"
          },
          "metadata": {}
        }
      ]
    },
    {
      "cell_type": "markdown",
      "source": [
        "При создании класс НС у меня не получилось улучшить точность предсказаний (изменяя гиперпараметры я добился примерно 0.5 верных ответов)\n",
        "Хотя далее, я покажу как использовал ту же нейросеть вне класса, и получил довольно приемлемую точность, к сожалению я так и не смог найти ошибку, из-за которой class MyNeuralNetwork работает некорректно."
      ],
      "metadata": {
        "id": "tNNUYmlKg1Hb"
      }
    },
    {
      "cell_type": "code",
      "source": [
        "INPUT_DIMEN = 11\n",
        "NUMBER_CLASSES = 6\n",
        "H_DIMEN = 20\n",
        "\n",
        "def relu_(t):\n",
        "    return np.maximum(t, 0)\n",
        "\n",
        "def softmax_(t):\n",
        "    out = np.exp(t)\n",
        "    return out / np.sum(out, axis=1, keepdims=True)\n",
        "\n",
        "def cross_entropy(z, y):\n",
        "    return -np.log(np.array([z[j, y[j]] for j in range(len(y))]))\n",
        "\n",
        "def pred_vector(y, num_classes):\n",
        "    prediction = np.zeros((len(y), num_classes))\n",
        "    for j, yj in enumerate(y):\n",
        "        prediction[j, yj] = 1\n",
        "    return prediction\n",
        "\n",
        "def relu_deriv(t):\n",
        "    return (t >= 0).astype(float)\n",
        "\n",
        "\n",
        "W1 = np.random.rand(INPUT_DIMEN, H_DIMEN)\n",
        "B1 = np.random.rand(1, H_DIMEN)\n",
        "W2 = np.random.rand(H_DIM, NUMBER_CLASSES)\n",
        "B2 = np.random.rand(1, NUMBER_CLASSES)\n",
        "\n",
        "W1 = (W1 - 0.5) * 2 * np.sqrt(1/INPUT_DIMEN)\n",
        "B1 = (b1 - 0.5) * 2 * np.sqrt(1/INPUT_DIMEN)\n",
        "W2 = (W2 - 0.5) * 2 * np.sqrt(1/H_DIMEN)\n",
        "B2 = (b2 - 0.5) * 2 * np.sqrt(1/H_DIMEN)\n",
        "\n",
        "ALPHA = 0.0002\n",
        "NUM_EPOCHS = 500\n",
        "BATCH_SIZE_ = 50\n",
        "\n",
        "loss_arr = []\n",
        "\n",
        "for ep in range(NUM_EPOCHS):\n",
        "    random.shuffle(dataset)\n",
        "    for i in range(len(dataset) // BATCH_SIZE_):\n",
        "\n",
        "        batch_x, batch_y = zip(*dataset[i*BATCH_SIZE_ : i*BATCH_SIZE_+BATCH_SIZE_])\n",
        "        x = np.concatenate(batch_x, axis=0)\n",
        "        y = np.array(batch_y)\n",
        "\n",
        "        # Forward\n",
        "        T1 = x @ W1 + B1\n",
        "        H1 = relu_(T1)\n",
        "        T2 = H1 @ W2 + b2\n",
        "        Z = softmax_(T2)\n",
        "        E = np.sum(cross_entropy(Z, y))\n",
        "\n",
        "        # Backward\n",
        "        prediction = pred_vector(y, NUMBER_CLASSES)\n",
        "        dE_dt2 = Z - prediction\n",
        "        dE_dW2 = H1.T @ dE_dt2\n",
        "        dE_db2 = np.sum(dE_dt2, axis=0, keepdims=True)\n",
        "        dE_dh1 = dE_dt2 @ W2.T\n",
        "        dE_dt1 = dE_dh1 * relu_deriv(T1)\n",
        "        dE_dW1 = x.T @ dE_dt1\n",
        "        dE_db1 = np.sum(dE_dt1, axis=0, keepdims=True)\n",
        "\n",
        "        # Update\n",
        "        W1 = W1 - ALPHA * dE_dW1\n",
        "        B1 = B1 - ALPHA * dE_db1\n",
        "        W2 = W2 - ALPHA * dE_dW2\n",
        "        B2 = B2 - ALPHA * dE_db2\n",
        "        loss_arr.append(E)\n",
        "\n",
        "def predict(x):\n",
        "    T1 = x @ W1 + B1\n",
        "    H1 = relu_(T1)\n",
        "    T2 = H1 @ W2 + B2\n",
        "    Z = softmax_(T2)\n",
        "    return Z\n",
        "\n",
        "def calc_accuracy():\n",
        "    correct = 0\n",
        "    for x, y in dataset:\n",
        "        z = predict(x)\n",
        "        y_pred = np.argmax(z)\n",
        "        if y_pred == y:\n",
        "            correct += 1\n",
        "    acc = correct / len(dataset)\n",
        "    return acc\n",
        "\n",
        "accuracy = calc_accuracy()\n",
        "print(\"Accuracy:\", accuracy)\n",
        "\n",
        "import matplotlib.pyplot as plt\n",
        "plt.plot(loss_arr)\n",
        "plt.show()\n"
      ],
      "metadata": {
        "colab": {
          "base_uri": "https://localhost:8080/",
          "height": 445
        },
        "id": "kn1_cCozhqRA",
        "outputId": "4f7aa21a-0352-4451-ff81-54dd914eb738"
      },
      "execution_count": 114,
      "outputs": [
        {
          "output_type": "stream",
          "name": "stdout",
          "text": [
            "Accuracy: 0.79\n"
          ]
        },
        {
          "output_type": "display_data",
          "data": {
            "text/plain": [
              "<Figure size 640x480 with 1 Axes>"
            ],
            "image/png": "[encoded data removed]"
          },
          "metadata": {}
        }
      ]
    },
    {
      "cell_type": "markdown",
      "source": [
        "Не в зависимости от того что тебе удалось сделать , скажи пару слов о том, в чём ты смог разобраться (если такие открытия были) и о том, какие изменения / дополнения и почему ты привнёс в заготовленный нами шаблон."
      ],
      "metadata": {
        "collapsed": false,
        "pycharm": {
          "name": "#%% md\n"
        },
        "id": "MYQTUam4EcQC"
      }
    },
    {
      "cell_type": "markdown",
      "source": [
        "В целом, я впервые познакомился с нейросетями, поэтому задания 2, 3 полностью были новыми для меня, разобрался в устройстве НС, в принципе работы, узнал несколько алгоритмов обучений, один из них пытался реализовать, но в классе это не особо получилось, все изменения в шаблоне были вызваны тем, что я изучал тему практически с 0, и использовал простые примеры."
      ],
      "metadata": {
        "id": "qpOLEvdPkOyL"
      }
    }
  ],
  "metadata": {
    "kernelspec": {
      "display_name": "Python 3",
      "language": "python",
      "name": "python3"
    },
    "language_info": {
      "codemirror_mode": {
        "name": "ipython",
        "version": 2
      },
      "file_extension": ".py",
      "mimetype": "text/x-python",
      "name": "python",
      "nbconvert_exporter": "python",
      "pygments_lexer": "ipython2",
      "version": "2.7.6"
    },
    "colab": {
      "provenance": []
    }
  },
  "nbformat": 4,
  "nbformat_minor": 0
}